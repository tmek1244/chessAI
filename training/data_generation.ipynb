{
 "cells": [
  {
   "cell_type": "code",
   "execution_count": 1,
   "metadata": {},
   "outputs": [],
   "source": [
    "from stockfish import Stockfish\n",
    "import numpy as np"
   ]
  },
  {
   "cell_type": "code",
   "execution_count": 55,
   "metadata": {},
   "outputs": [],
   "source": [
    "strong_stockfish = Stockfish(\n",
    "    path='/home/tmek1244/InternalProjects/stockfish_15_linux_x64_avx2/stockfish_15_x64_avx2',\n",
    "    depth=18,\n",
    "    parameters={\n",
    "        \"Threads\": 6,\n",
    "        \"Hash\": 1024*4\n",
    "    }\n",
    ")\n",
    "weak_stockfish = Stockfish(\n",
    "    path='/home/tmek1244/InternalProjects/stockfish_15_linux_x64_avx2/stockfish_15_x64_avx2',\n",
    "    depth=3,\n",
    "    parameters={\n",
    "        \"Threads\": 1,\n",
    "        \"Hash\": 16\n",
    "    }\n",
    ")"
   ]
  },
  {
   "cell_type": "code",
   "execution_count": 56,
   "metadata": {},
   "outputs": [
    {
     "name": "stdout",
     "output_type": "stream",
     "text": [
      "MOVE 0, total postions: 1 \n",
      "0 \n",
      "Copying...\n",
      "MOVE 1, total postions: 10 \n",
      "0 1 2 3 4 5 6 7 8 9 \n",
      "Copying...\n",
      "MOVE 2, total postions: 100 \n",
      "0 1 2 3 4 5 6 7 8 9 10 11 12 13 14 15 16 17 18 19 20 21 22 23 24 25 26 27 28 29 30 31 32 33 34 35 36 37 38 39 40 41 42 43 44 45 46 47 48 49 50 51 52 53 54 55 56 57 58 59 60 61 62 63 64 65 66 67 68 69 70 71 72 73 74 75 76 77 78 79 80 81 82 83 84 85 86 87 88 89 90 91 92 93 94 95 96 97 98 99 \n",
      "Copying...\n",
      "MOVE 3, total postions: 100 \n",
      "0 1 2 3 4 5 6 7 8 9 10 11 12 13 14 15 16 17 18 19 20 21 22 23 24 25 26 27 28 29 30 31 32 33 34 35 36 37 38 39 40 41 42 43 44 45 46 47 48 49 50 51 52 53 54 55 56 57 58 59 60 61 62 63 64 65 66 67 68 69 70 71 72 73 74 75 76 77 78 79 80 81 82 83 84 85 86 87 88 89 90 91 92 93 94 95 96 97 98 99 \n",
      "Copying...\n",
      "MOVE 4, total postions: 100 \n",
      "0 1 2 3 4 5 6 7 8 9 10 11 12 13 14 15 16 17 18 19 20 21 22 23 24 25 26 27 28 29 30 31 32 33 34 35 36 37 38 39 40 41 42 43 44 45 46 47 48 49 50 51 52 53 54 55 56 57 58 59 60 61 62 63 64 65 66 67 68 69 70 71 72 73 74 75 76 77 78 79 80 81 82 83 84 85 86 87 88 89 90 91 92 93 94 95 96 97 98 99 \n",
      "Copying...\n",
      "MOVE 5, total postions: 100 \n",
      "0 1 2 3 4 5 6 7 8 9 10 11 12 13 14 15 "
     ]
    },
    {
     "ename": "KeyboardInterrupt",
     "evalue": "",
     "output_type": "error",
     "traceback": [
      "\u001b[0;31m---------------------------------------------------------------------------\u001b[0m",
      "\u001b[0;31mKeyboardInterrupt\u001b[0m                         Traceback (most recent call last)",
      "\u001b[1;32m/home/tmek1244/InternalProjects/chessAI/training/data_generation.ipynb Cell 3\u001b[0m in \u001b[0;36m<cell line: 23>\u001b[0;34m()\u001b[0m\n\u001b[1;32m     <a href='vscode-notebook-cell:/home/tmek1244/InternalProjects/chessAI/training/data_generation.ipynb#X11sZmlsZQ%3D%3D?line=39'>40</a>\u001b[0m evaluation \u001b[39m=\u001b[39m strong_stockfish\u001b[39m.\u001b[39mget_evaluation()\n\u001b[1;32m     <a href='vscode-notebook-cell:/home/tmek1244/InternalProjects/chessAI/training/data_generation.ipynb#X11sZmlsZQ%3D%3D?line=40'>41</a>\u001b[0m data_value \u001b[39m=\u001b[39m evaluation[\u001b[39m\"\u001b[39m\u001b[39mvalue\u001b[39m\u001b[39m\"\u001b[39m] \u001b[39mif\u001b[39;00m evaluation[\u001b[39m\"\u001b[39m\u001b[39mtype\u001b[39m\u001b[39m\"\u001b[39m] \u001b[39m==\u001b[39m \u001b[39m\"\u001b[39m\u001b[39mcp\u001b[39m\u001b[39m\"\u001b[39m \u001b[39melse\u001b[39;00m \u001b[39m1000\u001b[39m\u001b[39m*\u001b[39m(evaluation[\u001b[39m\"\u001b[39m\u001b[39mvalue\u001b[39m\u001b[39m\"\u001b[39m]\u001b[39m/\u001b[39m\u001b[39m/\u001b[39m\u001b[39mabs\u001b[39m(evaluation[\u001b[39m\"\u001b[39m\u001b[39mvalue\u001b[39m\u001b[39m\"\u001b[39m]))\n\u001b[0;32m---> <a href='vscode-notebook-cell:/home/tmek1244/InternalProjects/chessAI/training/data_generation.ipynb#X11sZmlsZQ%3D%3D?line=41'>42</a>\u001b[0m top_moves \u001b[39m=\u001b[39m strong_stockfish\u001b[39m.\u001b[39;49mget_top_moves(MOVES_IN_OUTPUT)\n\u001b[1;32m     <a href='vscode-notebook-cell:/home/tmek1244/InternalProjects/chessAI/training/data_generation.ipynb#X11sZmlsZQ%3D%3D?line=42'>43</a>\u001b[0m top_moves_converted \u001b[39m=\u001b[39m [(convert_move(top_move[\u001b[39m'\u001b[39m\u001b[39mMove\u001b[39m\u001b[39m'\u001b[39m]), convert_evaluation(top_move)) \u001b[39mfor\u001b[39;00m top_move \u001b[39min\u001b[39;00m top_moves]\n\u001b[1;32m     <a href='vscode-notebook-cell:/home/tmek1244/InternalProjects/chessAI/training/data_generation.ipynb#X11sZmlsZQ%3D%3D?line=44'>45</a>\u001b[0m current_moves\u001b[39m.\u001b[39mappend(data_position)\n",
      "File \u001b[0;32m~/InternalProjects/chessAI/venv/lib/python3.10/site-packages/stockfish/models.py:540\u001b[0m, in \u001b[0;36mStockfish.get_top_moves\u001b[0;34m(self, num_top_moves)\u001b[0m\n\u001b[1;32m    538\u001b[0m lines \u001b[39m=\u001b[39m []\n\u001b[1;32m    539\u001b[0m \u001b[39mwhile\u001b[39;00m \u001b[39mTrue\u001b[39;00m:\n\u001b[0;32m--> 540\u001b[0m     text \u001b[39m=\u001b[39m \u001b[39mself\u001b[39;49m\u001b[39m.\u001b[39;49m_read_line()\n\u001b[1;32m    541\u001b[0m     splitted_text \u001b[39m=\u001b[39m text\u001b[39m.\u001b[39msplit(\u001b[39m\"\u001b[39m\u001b[39m \u001b[39m\u001b[39m\"\u001b[39m)\n\u001b[1;32m    542\u001b[0m     lines\u001b[39m.\u001b[39mappend(splitted_text)\n",
      "File \u001b[0;32m~/InternalProjects/chessAI/venv/lib/python3.10/site-packages/stockfish/models.py:161\u001b[0m, in \u001b[0;36mStockfish._read_line\u001b[0;34m(self)\u001b[0m\n\u001b[1;32m    159\u001b[0m \u001b[39mif\u001b[39;00m \u001b[39mself\u001b[39m\u001b[39m.\u001b[39m_stockfish\u001b[39m.\u001b[39mpoll() \u001b[39mis\u001b[39;00m \u001b[39mnot\u001b[39;00m \u001b[39mNone\u001b[39;00m:\n\u001b[1;32m    160\u001b[0m     \u001b[39mraise\u001b[39;00m StockfishException(\u001b[39m\"\u001b[39m\u001b[39mThe Stockfish process has crashed\u001b[39m\u001b[39m\"\u001b[39m)\n\u001b[0;32m--> 161\u001b[0m \u001b[39mreturn\u001b[39;00m \u001b[39mself\u001b[39;49m\u001b[39m.\u001b[39;49m_stockfish\u001b[39m.\u001b[39;49mstdout\u001b[39m.\u001b[39;49mreadline()\u001b[39m.\u001b[39mstrip()\n",
      "\u001b[0;31mKeyboardInterrupt\u001b[0m: "
     ]
    }
   ],
   "source": [
    "import json\n",
    "import random\n",
    "\n",
    "starting_position = \"rnbqkbnr/pppppppp/8/8/8/8/PPPPPPPP/RNBQKBNR w KQkq - 0 1\"\n",
    "\n",
    "\n",
    "def convert_move(move):\n",
    "    from_position = ord(move[0]) - 97 + 8*(int(move[1])-1)\n",
    "    to_position = ord(move[2]) - 97 + 8*(int(move[3])-1)\n",
    "\n",
    "    return from_position * 64 + to_position\n",
    "\n",
    "def convert_evaluation(evaluation):\n",
    "    return evaluation[\"Centipawn\"] if evaluation[\"Centipawn\"] is not None else 1000*(evaluation[\"Mate\"]//abs(evaluation[\"Mate\"]))\n",
    "\n",
    "current_moves = [starting_position]\n",
    "\n",
    "already_done = set()\n",
    "ITERATION = 100\n",
    "MOVES_PER_POSITION = 10\n",
    "MOVES_IN_OUTPUT = 5\n",
    "\n",
    "for i in range(ITERATION):\n",
    "    all_positions = set(current_moves)\n",
    "    current_moves = []\n",
    "    data = []\n",
    "    print(f\"MOVE {i}, total postions: {len(all_positions)} \")\n",
    "    for i, position in enumerate(all_positions):\n",
    "        weak_stockfish.set_fen_position(position)\n",
    "        pool = weak_stockfish.get_top_moves(MOVES_PER_POSITION)\n",
    "        print(i, end=' ')\n",
    "        for move in pool:\n",
    "            strong_stockfish.set_fen_position(position)\n",
    "            strong_stockfish.make_moves_from_current_position([move['Move']])\n",
    "            data_position = strong_stockfish.get_fen_position()\n",
    "\n",
    "            if data_position in already_done:\n",
    "                continue\n",
    "            \n",
    "            already_done.add(data_position)\n",
    "            evaluation = strong_stockfish.get_evaluation()\n",
    "            data_value = evaluation[\"value\"] if evaluation[\"type\"] == \"cp\" else 1000*(evaluation[\"value\"]//abs(evaluation[\"value\"]))\n",
    "            top_moves = strong_stockfish.get_top_moves(MOVES_IN_OUTPUT)\n",
    "            top_moves_converted = [(convert_move(top_move['Move']), convert_evaluation(top_move)) for top_move in top_moves]\n",
    "\n",
    "            current_moves.append(data_position)\n",
    "            data.append([data_position, data_value, top_moves_converted])\n",
    "    print(\"\\nCopying...\")\n",
    "    with open('../../chess_data/fen_eval_top_5_100x10_unique.json', 'a') as f:\n",
    "        for move in data:\n",
    "            f.write(str(move)+'\\n')\n",
    "        \n",
    "    current_moves = random.sample(current_moves, min(100, len(current_moves)))"
   ]
  }
 ],
 "metadata": {
  "kernelspec": {
   "display_name": "Python 3.10.4 ('venv': venv)",
   "language": "python",
   "name": "python3"
  },
  "language_info": {
   "codemirror_mode": {
    "name": "ipython",
    "version": 3
   },
   "file_extension": ".py",
   "mimetype": "text/x-python",
   "name": "python",
   "nbconvert_exporter": "python",
   "pygments_lexer": "ipython3",
   "version": "3.10.4"
  },
  "orig_nbformat": 4,
  "vscode": {
   "interpreter": {
    "hash": "f78c285c14cead02ab6c4268e58eb3f5481640740caa4851527120daa122cef2"
   }
  }
 },
 "nbformat": 4,
 "nbformat_minor": 2
}
