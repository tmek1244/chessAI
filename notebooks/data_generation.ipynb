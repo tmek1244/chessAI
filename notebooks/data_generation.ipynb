{
 "cells": [
  {
   "cell_type": "code",
   "execution_count": 2,
   "metadata": {},
   "outputs": [],
   "source": [
    "from stockfish import Stockfish\n",
    "import numpy as np"
   ]
  },
  {
   "cell_type": "code",
   "execution_count": 11,
   "metadata": {},
   "outputs": [],
   "source": [
    "strong_stockfish = Stockfish(\n",
    "    path='/home/tmek1244/InternalProjects/stockfish_15_linux_x64_avx2/stockfish_15_x64_avx2',\n",
    "    depth=18,\n",
    "    parameters={\n",
    "        \"Threads\": 6,\n",
    "        \"Hash\": 1024*4\n",
    "    }\n",
    ")\n",
    "weak_stockfish = Stockfish(\n",
    "    path='/home/tmek1244/InternalProjects/stockfish_15_linux_x64_avx2/stockfish_15_x64_avx2',\n",
    "    depth=3,\n",
    "    parameters={\n",
    "        \"Threads\": 1,\n",
    "        \"Hash\": 16\n",
    "    }\n",
    ")"
   ]
  },
  {
   "cell_type": "code",
   "execution_count": 12,
   "metadata": {},
   "outputs": [],
   "source": [
    "class Node:\n",
    "    moves: 'Node'\n",
    "\n",
    "    def __init__(self, move, parent=None, top_moves=3):\n",
    "        self.move = move\n",
    "        self.parent = parent\n",
    "        self.children = []\n",
    "        self.all_moves = self.get_moves()\n",
    "        self.top_moves = top_moves\n",
    "    \n",
    "    def get_moves(self) -> list[str]:\n",
    "        if self.parent:\n",
    "            return self.parent.get_moves() + [self.move]\n",
    "        else:\n",
    "            return []\n",
    "    \n",
    "    def create_children(self, depth=1):\n",
    "        if depth == 0:\n",
    "            return\n",
    "        weak_stockfish.set_position(self.all_moves)\n",
    "        for move in np.random.choice(weak_stockfish.get_top_moves(self.top_moves), self.top_moves, replace=False):\n",
    "            self.children.append(Node(move['Move'], self, self.top_moves))\n",
    "            self.children[-1].create_children(depth-1)\n",
    "        \n",
    "    def get_curr_position(self) -> np.ndarray:\n",
    "        result = np.zeros((2, 6, 8, 8))\n",
    "        weak_stockfish.set_position(self.all_moves)\n",
    "        for row in range(1, 9):\n",
    "            for i, col in enumerate(['a', 'b', 'c', 'd', 'e', 'f', 'g', 'h']):\n",
    "                piece = weak_stockfish.get_what_is_on_square(col+str(row))\n",
    "                if not piece:\n",
    "                    continue\n",
    "                \n",
    "                color = 1 if 'a' < piece.value < 'z' else 0\n",
    "                piece_id = None\n",
    "                if piece.value.lower() == 'k':\n",
    "                    piece_id = 0\n",
    "                elif piece.value.lower() == 'q':\n",
    "                    piece_id = 1\n",
    "                elif piece.value.lower() == 'r':\n",
    "                    piece_id = 2\n",
    "                elif piece.value.lower() == 'b':\n",
    "                    piece_id = 3\n",
    "                elif piece.value.lower() == 'n':\n",
    "                    piece_id = 4\n",
    "                elif piece.value.lower() == 'p':\n",
    "                    piece_id = 5\n",
    "                result[color, piece_id, row-1, i] = 1\n",
    "        return result\n",
    "    \n",
    "    def get_eval(self):\n",
    "        strong_stockfish.set_position(self.all_moves)\n",
    "        evaluation = strong_stockfish.get_evaluation()\n",
    "        return evaluation[\"value\"] if evaluation[\"type\"] == \"cp\" else 100*(evaluation[\"value\"]//abs(evaluation[\"value\"]))\n",
    "    \n",
    "    def export(self, depth=1, file=\"data.csv\"):\n",
    "        if depth == 0:\n",
    "            return\n",
    "        strong_stockfish.set_position(self.all_moves)\n",
    "        positions = self.get_curr_position().flatten()\n",
    "        evaluation = self.get_eval()\n",
    "        all = np.append(positions, [evaluation])\n",
    "        with open(file, \"a\") as f:\n",
    "            np.savetxt(f, all.reshape(1, all.shape[0]), delimiter=',', fmt='%d')\n",
    "        print(\".\", end='')\n",
    "        for child in self.children:\n",
    "            child.export(depth-1, file)\n",
    "        "
   ]
  },
  {
   "cell_type": "code",
   "execution_count": 13,
   "metadata": {},
   "outputs": [],
   "source": [
    "root = Node(None, None, top_moves=2)\n",
    "root.create_children(depth=15)"
   ]
  },
  {
   "cell_type": "code",
   "execution_count": 14,
   "metadata": {},
   "outputs": [
    {
     "name": "stdout",
     "output_type": "stream",
     "text": [
      "............................................................................................................................................................................................................................................................................................................................................................................................................................................................................................................................................................................................................................................................................................................................................................................................................................................................................................................................................................................................................................................................................................................................................................................................................................................................................................................................................................................................................................................................................................................................................................................................................................................................................................................................................................................................................................................................................................................................................................................................................................................................................................................................................................................................................................................................................................................................................................................................................................................................................................................................................................................................"
     ]
    }
   ],
   "source": [
    "root.export(depth=15, file=\"data1.csv\")"
   ]
  }
 ],
 "metadata": {
  "kernelspec": {
   "display_name": "Python 3.10.4 ('venv': venv)",
   "language": "python",
   "name": "python3"
  },
  "language_info": {
   "codemirror_mode": {
    "name": "ipython",
    "version": 3
   },
   "file_extension": ".py",
   "mimetype": "text/x-python",
   "name": "python",
   "nbconvert_exporter": "python",
   "pygments_lexer": "ipython3",
   "version": "3.10.4"
  },
  "orig_nbformat": 4,
  "vscode": {
   "interpreter": {
    "hash": "f78c285c14cead02ab6c4268e58eb3f5481640740caa4851527120daa122cef2"
   }
  }
 },
 "nbformat": 4,
 "nbformat_minor": 2
}
