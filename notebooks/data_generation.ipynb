{
 "cells": [
  {
   "cell_type": "code",
   "execution_count": 1,
   "metadata": {},
   "outputs": [],
   "source": [
    "from stockfish import Stockfish\n",
    "import numpy as np"
   ]
  },
  {
   "cell_type": "code",
   "execution_count": 9,
   "metadata": {},
   "outputs": [],
   "source": [
    "strong_stockfish = Stockfish(\n",
    "    path='/home/tmek1244/InternalProjects/stockfish_15_linux_x64_avx2/stockfish_15_x64_avx2',\n",
    "    depth=18,\n",
    "    parameters={\n",
    "        \"Threads\": 6,\n",
    "        \"Hash\": 1024*4\n",
    "    }\n",
    ")\n",
    "weak_stockfish = Stockfish(\n",
    "    path='/home/tmek1244/InternalProjects/stockfish_15_linux_x64_avx2/stockfish_15_x64_avx2',\n",
    "    depth=3,\n",
    "    parameters={\n",
    "        \"Threads\": 1,\n",
    "        \"Hash\": 16\n",
    "    }\n",
    ")"
   ]
  },
  {
   "cell_type": "code",
   "execution_count": 34,
   "metadata": {},
   "outputs": [],
   "source": [
    "class Node:\n",
    "    moves: 'Node'\n",
    "\n",
    "    def __init__(self, move, parent=None, top_moves=3):\n",
    "        self.move = move\n",
    "        self.parent = parent\n",
    "        self.children = []\n",
    "        self.all_moves = self.get_moves()\n",
    "        self.top_moves = top_moves\n",
    "\n",
    "    \n",
    "    def get_moves(self) -> list[str]:\n",
    "        if self.parent:\n",
    "            return self.parent.get_moves() + [self.move]\n",
    "        else:\n",
    "            return []\n",
    "    \n",
    "    def create_children(self, depth=1, moves_number=None, moves_pool=15):        \n",
    "        moves_number = moves_number if moves_number else self.top_moves\n",
    "        if depth == 0:\n",
    "            return\n",
    "\n",
    "        weak_stockfish.set_position(self.all_moves)\n",
    "        pool = weak_stockfish.get_top_moves(moves_pool)\n",
    "        for move in np.random.choice(pool, min(moves_number, len(pool)), replace=False):\n",
    "            self.children.append(Node(move['Move'], self, self.top_moves))\n",
    "            self.children[-1].create_children(depth-1, moves_number, moves_pool)\n",
    "        \n",
    "    def get_curr_position(self) -> np.ndarray:\n",
    "        result = np.zeros((2, 6, 8, 8))\n",
    "        weak_stockfish.set_position(self.all_moves)\n",
    "        for row in range(1, 9):\n",
    "            for i, col in enumerate(['a', 'b', 'c', 'd', 'e', 'f', 'g', 'h']):\n",
    "                piece = weak_stockfish.get_what_is_on_square(col+str(row))\n",
    "                if not piece:\n",
    "                    continue\n",
    "                \n",
    "                color = 1 if 'a' < piece.value < 'z' else 0\n",
    "                piece_id = None\n",
    "                if piece.value.lower() == 'k':\n",
    "                    piece_id = 0\n",
    "                elif piece.value.lower() == 'q':\n",
    "                    piece_id = 1\n",
    "                elif piece.value.lower() == 'r':\n",
    "                    piece_id = 2\n",
    "                elif piece.value.lower() == 'b':\n",
    "                    piece_id = 3\n",
    "                elif piece.value.lower() == 'n':\n",
    "                    piece_id = 4\n",
    "                elif piece.value.lower() == 'p':\n",
    "                    piece_id = 5\n",
    "                result[color, piece_id, row-1, i] = 1\n",
    "        return result\n",
    "    \n",
    "    def get_eval(self):\n",
    "        strong_stockfish.set_position(self.all_moves)\n",
    "        evaluation = strong_stockfish.get_evaluation()\n",
    "        return evaluation[\"value\"] if evaluation[\"type\"] == \"cp\" else 1000*(evaluation[\"value\"]//abs(evaluation[\"value\"]))\n",
    "    \n",
    "    def export(self, depth=1, file=\"data.csv\"):\n",
    "        if depth == 0:\n",
    "            return\n",
    "        strong_stockfish.set_position(self.all_moves)\n",
    "        positions = self.get_curr_position().flatten()\n",
    "        evaluation = self.get_eval()\n",
    "        all = np.append(positions, [evaluation])\n",
    "        with open(file, \"a\") as f:\n",
    "            np.savetxt(f, all.reshape(1, all.shape[0]), delimiter=',', fmt='%d')\n",
    "        print(\".\", end='')\n",
    "        for child in self.children:\n",
    "            child.export(depth-1, file)\n",
    "        "
   ]
  },
  {
   "cell_type": "code",
   "execution_count": 35,
   "metadata": {},
   "outputs": [],
   "source": [
    "root = Node(None, None, top_moves=1)\n",
    "root.create_children(depth=5, moves_number=1, moves_pool=2)"
   ]
  },
  {
   "cell_type": "code",
   "execution_count": 36,
   "metadata": {},
   "outputs": [],
   "source": [
    "node = root\n",
    "while node.children:\n",
    "    node = node.children[0]\n",
    "\n",
    "# node.create_children(depth=1, moves_number=3)\n"
   ]
  },
  {
   "cell_type": "code",
   "execution_count": 37,
   "metadata": {},
   "outputs": [
    {
     "name": "stdout",
     "output_type": "stream",
     "text": [
      "+---+---+---+---+---+---+---+---+\n",
      "| r | n | b | q | k | b |   | r | 8\n",
      "+---+---+---+---+---+---+---+---+\n",
      "| p | p | p |   | p | p | p | p | 7\n",
      "+---+---+---+---+---+---+---+---+\n",
      "|   |   |   |   |   | n |   |   | 6\n",
      "+---+---+---+---+---+---+---+---+\n",
      "|   |   |   | p |   |   |   |   | 5\n",
      "+---+---+---+---+---+---+---+---+\n",
      "|   |   |   | P |   |   |   |   | 4\n",
      "+---+---+---+---+---+---+---+---+\n",
      "|   |   |   |   |   | N | P |   | 3\n",
      "+---+---+---+---+---+---+---+---+\n",
      "| P | P | P |   | P | P |   | P | 2\n",
      "+---+---+---+---+---+---+---+---+\n",
      "| R | N | B | Q | K | B |   | R | 1\n",
      "+---+---+---+---+---+---+---+---+\n",
      "  a   b   c   d   e   f   g   h\n",
      "\n",
      "{'type': 'cp', 'value': 0}\n"
     ]
    }
   ],
   "source": [
    "strong_stockfish.set_position(node.all_moves)\n",
    "print(strong_stockfish.get_board_visual())\n",
    "print(strong_stockfish.get_evaluation())"
   ]
  },
  {
   "cell_type": "code",
   "execution_count": 64,
   "metadata": {},
   "outputs": [
    {
     "name": "stdout",
     "output_type": "stream",
     "text": [
      "........................................................................................................................................................................................................................................................................................................................................................................................................................................................................................................................................................................................................................................................................................................................................................................................................................................................................................................................................................................................................................................................................................................................................................................................................................................................................................................................................................................................................................................................................................................................................................................................................................................................................................................................................................................................................................................................................................................................................................................................................................................................................................................................................................................................................................................................................................................................................................................................................................................................................................................................................................................................................................................................................................................................................................................................................................................................................................................................................................................................................................................................................................................................................................................................."
     ]
    },
    {
     "ename": "KeyboardInterrupt",
     "evalue": "",
     "output_type": "error",
     "traceback": [
      "\u001b[0;31m---------------------------------------------------------------------------\u001b[0m",
      "\u001b[0;31mKeyboardInterrupt\u001b[0m                         Traceback (most recent call last)",
      "\u001b[1;32m/home/tmek1244/InternalProjects/chessAI/notebooks/data_generation.ipynb Cell 7\u001b[0m in \u001b[0;36m<cell line: 1>\u001b[0;34m()\u001b[0m\n\u001b[0;32m----> <a href='vscode-notebook-cell:/home/tmek1244/InternalProjects/chessAI/notebooks/data_generation.ipynb#W4sZmlsZQ%3D%3D?line=0'>1</a>\u001b[0m root\u001b[39m.\u001b[39;49mexport(depth\u001b[39m=\u001b[39;49m\u001b[39m100\u001b[39;49m, file\u001b[39m=\u001b[39;49m\u001b[39m\"\u001b[39;49m\u001b[39mstart_15_depth_10_moves_3.csv\u001b[39;49m\u001b[39m\"\u001b[39;49m)\n",
      "\u001b[1;32m/home/tmek1244/InternalProjects/chessAI/notebooks/data_generation.ipynb Cell 7\u001b[0m in \u001b[0;36mNode.export\u001b[0;34m(self, depth, file)\u001b[0m\n\u001b[1;32m     <a href='vscode-notebook-cell:/home/tmek1244/InternalProjects/chessAI/notebooks/data_generation.ipynb#W4sZmlsZQ%3D%3D?line=69'>70</a>\u001b[0m \u001b[39mprint\u001b[39m(\u001b[39m\"\u001b[39m\u001b[39m.\u001b[39m\u001b[39m\"\u001b[39m, end\u001b[39m=\u001b[39m\u001b[39m'\u001b[39m\u001b[39m'\u001b[39m)\n\u001b[1;32m     <a href='vscode-notebook-cell:/home/tmek1244/InternalProjects/chessAI/notebooks/data_generation.ipynb#W4sZmlsZQ%3D%3D?line=70'>71</a>\u001b[0m \u001b[39mfor\u001b[39;00m child \u001b[39min\u001b[39;00m \u001b[39mself\u001b[39m\u001b[39m.\u001b[39mchildren:\n\u001b[0;32m---> <a href='vscode-notebook-cell:/home/tmek1244/InternalProjects/chessAI/notebooks/data_generation.ipynb#W4sZmlsZQ%3D%3D?line=71'>72</a>\u001b[0m     child\u001b[39m.\u001b[39;49mexport(depth\u001b[39m-\u001b[39;49m\u001b[39m1\u001b[39;49m, file)\n",
      "\u001b[1;32m/home/tmek1244/InternalProjects/chessAI/notebooks/data_generation.ipynb Cell 7\u001b[0m in \u001b[0;36mNode.export\u001b[0;34m(self, depth, file)\u001b[0m\n\u001b[1;32m     <a href='vscode-notebook-cell:/home/tmek1244/InternalProjects/chessAI/notebooks/data_generation.ipynb#W4sZmlsZQ%3D%3D?line=69'>70</a>\u001b[0m \u001b[39mprint\u001b[39m(\u001b[39m\"\u001b[39m\u001b[39m.\u001b[39m\u001b[39m\"\u001b[39m, end\u001b[39m=\u001b[39m\u001b[39m'\u001b[39m\u001b[39m'\u001b[39m)\n\u001b[1;32m     <a href='vscode-notebook-cell:/home/tmek1244/InternalProjects/chessAI/notebooks/data_generation.ipynb#W4sZmlsZQ%3D%3D?line=70'>71</a>\u001b[0m \u001b[39mfor\u001b[39;00m child \u001b[39min\u001b[39;00m \u001b[39mself\u001b[39m\u001b[39m.\u001b[39mchildren:\n\u001b[0;32m---> <a href='vscode-notebook-cell:/home/tmek1244/InternalProjects/chessAI/notebooks/data_generation.ipynb#W4sZmlsZQ%3D%3D?line=71'>72</a>\u001b[0m     child\u001b[39m.\u001b[39;49mexport(depth\u001b[39m-\u001b[39;49m\u001b[39m1\u001b[39;49m, file)\n",
      "    \u001b[0;31m[... skipping similar frames: Node.export at line 72 (20 times)]\u001b[0m\n",
      "\u001b[1;32m/home/tmek1244/InternalProjects/chessAI/notebooks/data_generation.ipynb Cell 7\u001b[0m in \u001b[0;36mNode.export\u001b[0;34m(self, depth, file)\u001b[0m\n\u001b[1;32m     <a href='vscode-notebook-cell:/home/tmek1244/InternalProjects/chessAI/notebooks/data_generation.ipynb#W4sZmlsZQ%3D%3D?line=69'>70</a>\u001b[0m \u001b[39mprint\u001b[39m(\u001b[39m\"\u001b[39m\u001b[39m.\u001b[39m\u001b[39m\"\u001b[39m, end\u001b[39m=\u001b[39m\u001b[39m'\u001b[39m\u001b[39m'\u001b[39m)\n\u001b[1;32m     <a href='vscode-notebook-cell:/home/tmek1244/InternalProjects/chessAI/notebooks/data_generation.ipynb#W4sZmlsZQ%3D%3D?line=70'>71</a>\u001b[0m \u001b[39mfor\u001b[39;00m child \u001b[39min\u001b[39;00m \u001b[39mself\u001b[39m\u001b[39m.\u001b[39mchildren:\n\u001b[0;32m---> <a href='vscode-notebook-cell:/home/tmek1244/InternalProjects/chessAI/notebooks/data_generation.ipynb#W4sZmlsZQ%3D%3D?line=71'>72</a>\u001b[0m     child\u001b[39m.\u001b[39;49mexport(depth\u001b[39m-\u001b[39;49m\u001b[39m1\u001b[39;49m, file)\n",
      "\u001b[1;32m/home/tmek1244/InternalProjects/chessAI/notebooks/data_generation.ipynb Cell 7\u001b[0m in \u001b[0;36mNode.export\u001b[0;34m(self, depth, file)\u001b[0m\n\u001b[1;32m     <a href='vscode-notebook-cell:/home/tmek1244/InternalProjects/chessAI/notebooks/data_generation.ipynb#W4sZmlsZQ%3D%3D?line=63'>64</a>\u001b[0m strong_stockfish\u001b[39m.\u001b[39mset_position(\u001b[39mself\u001b[39m\u001b[39m.\u001b[39mall_moves)\n\u001b[1;32m     <a href='vscode-notebook-cell:/home/tmek1244/InternalProjects/chessAI/notebooks/data_generation.ipynb#W4sZmlsZQ%3D%3D?line=64'>65</a>\u001b[0m positions \u001b[39m=\u001b[39m \u001b[39mself\u001b[39m\u001b[39m.\u001b[39mget_curr_position()\u001b[39m.\u001b[39mflatten()\n\u001b[0;32m---> <a href='vscode-notebook-cell:/home/tmek1244/InternalProjects/chessAI/notebooks/data_generation.ipynb#W4sZmlsZQ%3D%3D?line=65'>66</a>\u001b[0m evaluation \u001b[39m=\u001b[39m \u001b[39mself\u001b[39;49m\u001b[39m.\u001b[39;49mget_eval()\n\u001b[1;32m     <a href='vscode-notebook-cell:/home/tmek1244/InternalProjects/chessAI/notebooks/data_generation.ipynb#W4sZmlsZQ%3D%3D?line=66'>67</a>\u001b[0m \u001b[39mall\u001b[39m \u001b[39m=\u001b[39m np\u001b[39m.\u001b[39mappend(positions, [evaluation])\n\u001b[1;32m     <a href='vscode-notebook-cell:/home/tmek1244/InternalProjects/chessAI/notebooks/data_generation.ipynb#W4sZmlsZQ%3D%3D?line=67'>68</a>\u001b[0m \u001b[39mwith\u001b[39;00m \u001b[39mopen\u001b[39m(file, \u001b[39m\"\u001b[39m\u001b[39ma\u001b[39m\u001b[39m\"\u001b[39m) \u001b[39mas\u001b[39;00m f:\n",
      "\u001b[1;32m/home/tmek1244/InternalProjects/chessAI/notebooks/data_generation.ipynb Cell 7\u001b[0m in \u001b[0;36mNode.get_eval\u001b[0;34m(self)\u001b[0m\n\u001b[1;32m     <a href='vscode-notebook-cell:/home/tmek1244/InternalProjects/chessAI/notebooks/data_generation.ipynb#W4sZmlsZQ%3D%3D?line=55'>56</a>\u001b[0m \u001b[39mdef\u001b[39;00m \u001b[39mget_eval\u001b[39m(\u001b[39mself\u001b[39m):\n\u001b[1;32m     <a href='vscode-notebook-cell:/home/tmek1244/InternalProjects/chessAI/notebooks/data_generation.ipynb#W4sZmlsZQ%3D%3D?line=56'>57</a>\u001b[0m     strong_stockfish\u001b[39m.\u001b[39mset_position(\u001b[39mself\u001b[39m\u001b[39m.\u001b[39mall_moves)\n\u001b[0;32m---> <a href='vscode-notebook-cell:/home/tmek1244/InternalProjects/chessAI/notebooks/data_generation.ipynb#W4sZmlsZQ%3D%3D?line=57'>58</a>\u001b[0m     evaluation \u001b[39m=\u001b[39m strong_stockfish\u001b[39m.\u001b[39;49mget_evaluation()\n\u001b[1;32m     <a href='vscode-notebook-cell:/home/tmek1244/InternalProjects/chessAI/notebooks/data_generation.ipynb#W4sZmlsZQ%3D%3D?line=58'>59</a>\u001b[0m     \u001b[39mreturn\u001b[39;00m evaluation[\u001b[39m\"\u001b[39m\u001b[39mvalue\u001b[39m\u001b[39m\"\u001b[39m] \u001b[39mif\u001b[39;00m evaluation[\u001b[39m\"\u001b[39m\u001b[39mtype\u001b[39m\u001b[39m\"\u001b[39m] \u001b[39m==\u001b[39m \u001b[39m\"\u001b[39m\u001b[39mcp\u001b[39m\u001b[39m\"\u001b[39m \u001b[39melse\u001b[39;00m \u001b[39m1000\u001b[39m\u001b[39m*\u001b[39m(evaluation[\u001b[39m\"\u001b[39m\u001b[39mvalue\u001b[39m\u001b[39m\"\u001b[39m]\u001b[39m/\u001b[39m\u001b[39m/\u001b[39m\u001b[39mabs\u001b[39m(evaluation[\u001b[39m\"\u001b[39m\u001b[39mvalue\u001b[39m\u001b[39m\"\u001b[39m]))\n",
      "File \u001b[0;32m~/InternalProjects/chessAI/venv/lib/python3.10/site-packages/stockfish/models.py:505\u001b[0m, in \u001b[0;36mStockfish.get_evaluation\u001b[0;34m(self)\u001b[0m\n\u001b[1;32m    503\u001b[0m \u001b[39mself\u001b[39m\u001b[39m.\u001b[39m_go()\n\u001b[1;32m    504\u001b[0m \u001b[39mwhile\u001b[39;00m \u001b[39mTrue\u001b[39;00m:\n\u001b[0;32m--> 505\u001b[0m     text \u001b[39m=\u001b[39m \u001b[39mself\u001b[39;49m\u001b[39m.\u001b[39;49m_read_line()\n\u001b[1;32m    506\u001b[0m     splitted_text \u001b[39m=\u001b[39m text\u001b[39m.\u001b[39msplit(\u001b[39m\"\u001b[39m\u001b[39m \u001b[39m\u001b[39m\"\u001b[39m)\n\u001b[1;32m    507\u001b[0m     \u001b[39mif\u001b[39;00m splitted_text[\u001b[39m0\u001b[39m] \u001b[39m==\u001b[39m \u001b[39m\"\u001b[39m\u001b[39minfo\u001b[39m\u001b[39m\"\u001b[39m:\n",
      "File \u001b[0;32m~/InternalProjects/chessAI/venv/lib/python3.10/site-packages/stockfish/models.py:161\u001b[0m, in \u001b[0;36mStockfish._read_line\u001b[0;34m(self)\u001b[0m\n\u001b[1;32m    159\u001b[0m \u001b[39mif\u001b[39;00m \u001b[39mself\u001b[39m\u001b[39m.\u001b[39m_stockfish\u001b[39m.\u001b[39mpoll() \u001b[39mis\u001b[39;00m \u001b[39mnot\u001b[39;00m \u001b[39mNone\u001b[39;00m:\n\u001b[1;32m    160\u001b[0m     \u001b[39mraise\u001b[39;00m StockfishException(\u001b[39m\"\u001b[39m\u001b[39mThe Stockfish process has crashed\u001b[39m\u001b[39m\"\u001b[39m)\n\u001b[0;32m--> 161\u001b[0m \u001b[39mreturn\u001b[39;00m \u001b[39mself\u001b[39;49m\u001b[39m.\u001b[39;49m_stockfish\u001b[39m.\u001b[39;49mstdout\u001b[39m.\u001b[39;49mreadline()\u001b[39m.\u001b[39mstrip()\n",
      "\u001b[0;31mKeyboardInterrupt\u001b[0m: "
     ]
    }
   ],
   "source": [
    "root.export(depth=100, file=\"start_1_depth_10_moves_3.csv\")"
   ]
  },
  {
   "cell_type": "code",
   "execution_count": null,
   "metadata": {},
   "outputs": [],
   "source": []
  }
 ],
 "metadata": {
  "kernelspec": {
   "display_name": "Python 3.10.4 ('venv': venv)",
   "language": "python",
   "name": "python3"
  },
  "language_info": {
   "codemirror_mode": {
    "name": "ipython",
    "version": 3
   },
   "file_extension": ".py",
   "mimetype": "text/x-python",
   "name": "python",
   "nbconvert_exporter": "python",
   "pygments_lexer": "ipython3",
   "version": "3.10.4"
  },
  "orig_nbformat": 4,
  "vscode": {
   "interpreter": {
    "hash": "f78c285c14cead02ab6c4268e58eb3f5481640740caa4851527120daa122cef2"
   }
  }
 },
 "nbformat": 4,
 "nbformat_minor": 2
}
