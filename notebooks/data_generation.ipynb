{
 "cells": [
  {
   "cell_type": "code",
   "execution_count": 1,
   "metadata": {},
   "outputs": [],
   "source": [
    "from stockfish import Stockfish\n",
    "import numpy as np"
   ]
  },
  {
   "cell_type": "code",
   "execution_count": 58,
   "metadata": {},
   "outputs": [],
   "source": [
    "strong_stockfish = Stockfish(\n",
    "    path='/home/tmek1244/InternalProjects/stockfish_15_linux_x64_avx2/stockfish_15_x64_avx2',\n",
    "    depth=18,\n",
    "    parameters={\n",
    "        \"Threads\": 6,\n",
    "        \"Hash\": 1024*4\n",
    "    }\n",
    ")\n",
    "weak_stockfish = Stockfish(\n",
    "    path='/home/tmek1244/InternalProjects/stockfish_15_linux_x64_avx2/stockfish_15_x64_avx2',\n",
    "    depth=3,\n",
    "    parameters={\n",
    "        \"Threads\": 1,\n",
    "        \"Hash\": 16\n",
    "    }\n",
    ")"
   ]
  },
  {
   "cell_type": "code",
   "execution_count": null,
   "metadata": {},
   "outputs": [],
   "source": [
    "import json\n",
    "import random\n",
    "\n",
    "starting_position = \"rnbqkbnr/pppppppp/8/8/8/8/PPPPPPPP/RNBQKBNR w KQkq - 0 1\"\n",
    "\n",
    "\n",
    "def convert_move(move):\n",
    "    from_position = ord(move[0]) - 97 + 8*(int(move[1])-1)\n",
    "    to_position = ord(move[2]) - 97 + 8*(int(move[3])-1)\n",
    "\n",
    "    return from_position * 64 + to_position\n",
    "\n",
    "def convert_evaluation(evaluation):\n",
    "    return evaluation[\"Centipawn\"] if evaluation[\"Centipawn\"] is not None else 1000*(evaluation[\"Mate\"]//abs(evaluation[\"Mate\"]))\n",
    "\n",
    "current_moves = [starting_position]\n",
    "\n",
    "already_done = set()\n",
    "ITERATION = 100\n",
    "MOVES_PER_POSITION = 10\n",
    "MOVES_IN_OUTPUT = 5\n",
    "\n",
    "for i in range(ITERATION):\n",
    "    all_positions = set(current_moves)\n",
    "    current_moves = []\n",
    "    data = []\n",
    "    print(f\"MOVE {i}, total postions: {len(all_positions)} \")\n",
    "    for i, position in enumerate(all_positions):\n",
    "        weak_stockfish.set_fen_position(position)\n",
    "        pool = weak_stockfish.get_top_moves(MOVES_PER_POSITION)\n",
    "        print(i, end=' ')\n",
    "        for move in pool:\n",
    "            strong_stockfish.set_fen_position(position)\n",
    "            strong_stockfish.make_moves_from_current_position([move['Move']])\n",
    "            data_position = strong_stockfish.get_fen_position()\n",
    "\n",
    "            if data_position in already_done:\n",
    "                continue\n",
    "            \n",
    "            already_done.add(data_position)\n",
    "            evaluation = strong_stockfish.get_evaluation()\n",
    "            data_value = evaluation[\"value\"] if evaluation[\"type\"] == \"cp\" else 1000*(evaluation[\"value\"]//abs(evaluation[\"value\"]))\n",
    "            top_moves = strong_stockfish.get_top_moves(MOVES_IN_OUTPUT)\n",
    "            top_moves_converted = [(convert_move(top_move['Move']), convert_evaluation(top_move)) for top_move in top_moves]\n",
    "\n",
    "            current_moves.append(data_position)\n",
    "            data.append([data_position, data_value, top_moves_converted])\n",
    "    print(\"\\nCopying...\")\n",
    "    with open('../../chess_data/fen_eval_top_5_100x10_unique.json', 'a') as f:\n",
    "        for move in data:\n",
    "            f.write(str(move)+'\\n')\n",
    "        \n",
    "    current_moves = random.sample(current_moves, min(100, len(current_moves)))"
   ]
  }
 ],
 "metadata": {
  "kernelspec": {
   "display_name": "Python 3.10.4 ('venv': venv)",
   "language": "python",
   "name": "python3"
  },
  "language_info": {
   "codemirror_mode": {
    "name": "ipython",
    "version": 3
   },
   "file_extension": ".py",
   "mimetype": "text/x-python",
   "name": "python",
   "nbconvert_exporter": "python",
   "pygments_lexer": "ipython3",
   "version": "3.10.4"
  },
  "orig_nbformat": 4,
  "vscode": {
   "interpreter": {
    "hash": "f78c285c14cead02ab6c4268e58eb3f5481640740caa4851527120daa122cef2"
   }
  }
 },
 "nbformat": 4,
 "nbformat_minor": 2
}
