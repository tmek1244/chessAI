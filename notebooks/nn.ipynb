{
 "cells": [
  {
   "cell_type": "code",
   "execution_count": 59,
   "metadata": {},
   "outputs": [],
   "source": [
    "import pandas as pd\n",
    "import numpy as np\n",
    "import tensorflow as tf\n",
    "import matplotlib.pyplot as plt"
   ]
  },
  {
   "cell_type": "code",
   "execution_count": 60,
   "metadata": {},
   "outputs": [
    {
     "name": "stdout",
     "output_type": "stream",
     "text": [
      "Num GPUs Available:  1\n"
     ]
    }
   ],
   "source": [
    "print(\"Num GPUs Available: \", len(tf.config.list_physical_devices('GPU')))"
   ]
  },
  {
   "cell_type": "code",
   "execution_count": 61,
   "metadata": {},
   "outputs": [],
   "source": [
    "class NeuralNetwork():\n",
    "    def __init__(self):\n",
    "        self.optimizer = 'Adam'\n",
    "        self.loss = 'categorical_crossentropy'\n",
    "        \n",
    "    def define(self):\n",
    "        input_layer= tf.keras.Input(shape=(12, 8, 8))\n",
    "        x = tf.keras.layers.Conv2D(filters=64,kernel_size = 2,strides = (2,2))(input_layer)\n",
    "        x = tf.keras.layers.Conv2D(filters=128,kernel_size=2,strides = (2,2))(x)\n",
    "        x = tf.keras.layers.Conv2D(filters=256,kernel_size=2,strides = (2,2))(x)\n",
    "        x = tf.keras.layers.Flatten()(x)\n",
    "\n",
    "        x = tf.keras.layers.Dense(4096,activation = 'relu')(x)\n",
    "        output = tf.keras.layers.Dense(1,activation = 'sigmoid')(x)\n",
    "\n",
    "        model = tf.keras.Model(inputs=input_layer,outputs=output)\n",
    "        model.compile(optimizer = self.optimizer,loss = self.loss)\n",
    "        self.model = model\n",
    "nn = NeuralNetwork()\n",
    "nn.define()"
   ]
  },
  {
   "cell_type": "code",
   "execution_count": 62,
   "metadata": {},
   "outputs": [],
   "source": [
    "def prepare_output(array):\n",
    "    return 1/(1 + 10**(array/400))"
   ]
  },
  {
   "cell_type": "code",
   "execution_count": 63,
   "metadata": {},
   "outputs": [
    {
     "name": "stdout",
     "output_type": "stream",
     "text": [
      "[[0 0 1 0 0 1 0 0]\n",
      " [0 0 0 0 0 0 0 0]\n",
      " [0 0 0 0 0 0 0 0]\n",
      " [0 0 0 0 0 0 0 0]\n",
      " [0 0 0 0 0 0 0 0]\n",
      " [0 0 0 0 0 0 0 0]\n",
      " [0 0 0 0 0 0 0 0]\n",
      " [0 0 0 0 0 0 0 0]]\n",
      "(249,)\n"
     ]
    }
   ],
   "source": [
    "df = pd.read_csv('data1.csv')\n",
    "data, evaluations = df.iloc[:,:-1], df.iloc[:,-1:]\n",
    "# print(data.shape)\n",
    "# print(data.to_numpy())\n",
    "\n",
    "# x_train = x_train.reshape(60000, 784).astype(\"float32\") / 255\n",
    "# x_test = x_test.reshape(10000, 784).astype(\"float32\") / 255\n",
    "\n",
    "# y_train = y_train.astype(\"float32\")\n",
    "# y_test = y_test.astype(\"float32\")\n",
    "\n",
    "# Reserve 10,000 samples for validation\n",
    "x_val = data[:int(len(data)*0.1)].to_numpy().reshape((-1, 12, 8, 8))\n",
    "y_val = prepare_output(evaluations[:int(len(data)*0.1)].to_numpy().flatten())\n",
    "x_train = data[int(len(data)*0.1):int(len(data)*0.9)].to_numpy().reshape((-1, 12, 8, 8))\n",
    "y_train = prepare_output(evaluations[int(len(data)*0.1):int(len(data)*0.9)].to_numpy().flatten())\n",
    "x_test = data[int(len(data)*0.9):].to_numpy().reshape((-1, 12, 8, 8))\n",
    "y_test = prepare_output(evaluations[int(len(data)*0.9):].to_numpy().flatten())\n",
    "print(x_val[0][3])\n",
    "print(y_val.shape)\n",
    "# print(x_train.shape)\n",
    "# print(x_test.shape)\n"
   ]
  },
  {
   "cell_type": "code",
   "execution_count": 64,
   "metadata": {},
   "outputs": [
    {
     "name": "stdout",
     "output_type": "stream",
     "text": [
      "Epoch 1/30\n",
      "16/16 [==============================] - 1s 26ms/step - loss: 0.0000e+00 - val_loss: 0.0000e+00\n",
      "Epoch 2/30\n",
      "16/16 [==============================] - 0s 6ms/step - loss: 0.0000e+00 - val_loss: 0.0000e+00\n",
      "Epoch 3/30\n",
      "16/16 [==============================] - 0s 7ms/step - loss: 0.0000e+00 - val_loss: 0.0000e+00\n",
      "Epoch 4/30\n",
      "16/16 [==============================] - 0s 6ms/step - loss: 0.0000e+00 - val_loss: 0.0000e+00\n",
      "Epoch 5/30\n",
      "16/16 [==============================] - 0s 5ms/step - loss: 0.0000e+00 - val_loss: 0.0000e+00\n",
      "Epoch 6/30\n",
      "16/16 [==============================] - 0s 6ms/step - loss: 0.0000e+00 - val_loss: 0.0000e+00\n",
      "Epoch 7/30\n",
      "16/16 [==============================] - 0s 5ms/step - loss: 0.0000e+00 - val_loss: 0.0000e+00\n",
      "Epoch 8/30\n",
      "16/16 [==============================] - 0s 5ms/step - loss: 0.0000e+00 - val_loss: 0.0000e+00\n",
      "Epoch 9/30\n",
      "16/16 [==============================] - 0s 6ms/step - loss: 0.0000e+00 - val_loss: 0.0000e+00\n",
      "Epoch 10/30\n",
      "16/16 [==============================] - 0s 7ms/step - loss: 0.0000e+00 - val_loss: 0.0000e+00\n",
      "Epoch 11/30\n",
      "16/16 [==============================] - 0s 6ms/step - loss: 0.0000e+00 - val_loss: 0.0000e+00\n",
      "Epoch 12/30\n",
      "16/16 [==============================] - 0s 5ms/step - loss: 0.0000e+00 - val_loss: 0.0000e+00\n",
      "Epoch 13/30\n",
      "16/16 [==============================] - 0s 5ms/step - loss: 0.0000e+00 - val_loss: 0.0000e+00\n",
      "Epoch 14/30\n",
      "16/16 [==============================] - 0s 7ms/step - loss: 0.0000e+00 - val_loss: 0.0000e+00\n",
      "Epoch 15/30\n",
      "16/16 [==============================] - 0s 7ms/step - loss: 0.0000e+00 - val_loss: 0.0000e+00\n",
      "Epoch 16/30\n",
      "16/16 [==============================] - 0s 5ms/step - loss: 0.0000e+00 - val_loss: 0.0000e+00\n",
      "Epoch 17/30\n",
      "16/16 [==============================] - 0s 7ms/step - loss: 0.0000e+00 - val_loss: 0.0000e+00\n",
      "Epoch 18/30\n",
      "16/16 [==============================] - 0s 6ms/step - loss: 0.0000e+00 - val_loss: 0.0000e+00\n",
      "Epoch 19/30\n",
      "16/16 [==============================] - 0s 7ms/step - loss: 0.0000e+00 - val_loss: 0.0000e+00\n",
      "Epoch 20/30\n",
      "16/16 [==============================] - 0s 6ms/step - loss: 0.0000e+00 - val_loss: 0.0000e+00\n",
      "Epoch 21/30\n",
      "16/16 [==============================] - 0s 5ms/step - loss: 0.0000e+00 - val_loss: 0.0000e+00\n",
      "Epoch 22/30\n",
      "16/16 [==============================] - 0s 5ms/step - loss: 0.0000e+00 - val_loss: 0.0000e+00\n",
      "Epoch 23/30\n",
      "16/16 [==============================] - 0s 6ms/step - loss: 0.0000e+00 - val_loss: 0.0000e+00\n",
      "Epoch 24/30\n",
      "16/16 [==============================] - 0s 5ms/step - loss: 0.0000e+00 - val_loss: 0.0000e+00\n",
      "Epoch 25/30\n",
      "16/16 [==============================] - 0s 5ms/step - loss: 0.0000e+00 - val_loss: 0.0000e+00\n",
      "Epoch 26/30\n",
      "16/16 [==============================] - 0s 8ms/step - loss: 0.0000e+00 - val_loss: 0.0000e+00\n",
      "Epoch 27/30\n",
      "16/16 [==============================] - 0s 8ms/step - loss: 0.0000e+00 - val_loss: 0.0000e+00\n",
      "Epoch 28/30\n",
      "16/16 [==============================] - 0s 5ms/step - loss: 0.0000e+00 - val_loss: 0.0000e+00\n",
      "Epoch 29/30\n",
      "16/16 [==============================] - 0s 5ms/step - loss: 0.0000e+00 - val_loss: 0.0000e+00\n",
      "Epoch 30/30\n",
      "16/16 [==============================] - 0s 5ms/step - loss: 0.0000e+00 - val_loss: 0.0000e+00\n"
     ]
    }
   ],
   "source": [
    "history = nn.model.fit(\n",
    "    x_train,\n",
    "    y_train,\n",
    "    batch_size=128,\n",
    "    epochs=30,\n",
    "    # We pass some validation for\n",
    "    # monitoring validation loss and metrics\n",
    "    # at the end of each epoch\n",
    "    validation_data=(x_val, y_val),\n",
    ")"
   ]
  },
  {
   "cell_type": "code",
   "execution_count": 81,
   "metadata": {},
   "outputs": [
    {
     "name": "stdout",
     "output_type": "stream",
     "text": [
      "Evaluate on test data\n",
      "2/2 [==============================] - 0s 4ms/step - loss: 0.6856 - accuracy: 0.9520\n",
      "test loss, test acc: [0.6856420636177063, 0.9520000219345093]\n",
      "Generate predictions for 3 samples\n",
      "1/1 [==============================] - 0s 79ms/step\n",
      "predictions shape: (3, 2)\n"
     ]
    }
   ],
   "source": [
    "print(\"Evaluate on test data\")\n",
    "results = model.evaluate(x_test, y_test, batch_size=128)\n",
    "print(\"test loss, test acc:\", results)\n",
    "\n",
    "# Generate predictions (probabilities -- the output of the last layer)\n",
    "# on new data using `predict`\n",
    "print(\"Generate predictions for 3 samples\")\n",
    "predictions = model.predict(x_test[:3])\n",
    "print(\"predictions shape:\", predictions.shape)"
   ]
  },
  {
   "cell_type": "code",
   "execution_count": null,
   "metadata": {},
   "outputs": [],
   "source": []
  }
 ],
 "metadata": {
  "kernelspec": {
   "display_name": "Python 3.10.4 ('venv': venv)",
   "language": "python",
   "name": "python3"
  },
  "language_info": {
   "codemirror_mode": {
    "name": "ipython",
    "version": 3
   },
   "file_extension": ".py",
   "mimetype": "text/x-python",
   "name": "python",
   "nbconvert_exporter": "python",
   "pygments_lexer": "ipython3",
   "version": "3.10.4"
  },
  "orig_nbformat": 4,
  "vscode": {
   "interpreter": {
    "hash": "f78c285c14cead02ab6c4268e58eb3f5481640740caa4851527120daa122cef2"
   }
  }
 },
 "nbformat": 4,
 "nbformat_minor": 2
}
