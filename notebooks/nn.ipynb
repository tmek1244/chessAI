{
 "cells": [
  {
   "cell_type": "code",
   "execution_count": 4,
   "metadata": {},
   "outputs": [],
   "source": [
    "import pandas as pd\n",
    "import numpy as np\n",
    "import tensorflow as tf"
   ]
  },
  {
   "cell_type": "code",
   "execution_count": 5,
   "metadata": {},
   "outputs": [
    {
     "name": "stdout",
     "output_type": "stream",
     "text": [
      "Num GPUs Available:  1\n"
     ]
    }
   ],
   "source": [
    "print(\"Num GPUs Available: \", len(tf.config.list_physical_devices('GPU')))"
   ]
  },
  {
   "cell_type": "code",
   "execution_count": 77,
   "metadata": {},
   "outputs": [],
   "source": [
    "model = tf.keras.Sequential()\n",
    "model.add(tf.keras.Input(shape=(768,)))\n",
    "model.add(tf.keras.layers.Dense(512, activation='relu'))\n",
    "model.add(tf.keras.layers.Dense(128, activation='relu'))\n",
    "model.add(tf.keras.layers.Dense(2, activation='softmax'))\n",
    "\n",
    "model.compile(\n",
    "    loss='categorical_crossentropy', optimizer=tf.optimizers.Adam(), metrics=['accuracy']\n",
    ")"
   ]
  },
  {
   "cell_type": "code",
   "execution_count": 78,
   "metadata": {},
   "outputs": [],
   "source": [
    "MAX = 1000\n",
    "\n",
    "def prepare_output(array):\n",
    "    result = []\n",
    "    for element in array:\n",
    "        element = min(MAX, max(-MAX, element))\n",
    "        element = 0.5 + 0.5*element/MAX\n",
    "        result.append([element, 1 - element])\n",
    "    return np.array(result)\n"
   ]
  },
  {
   "cell_type": "code",
   "execution_count": 79,
   "metadata": {},
   "outputs": [
    {
     "name": "stdout",
     "output_type": "stream",
     "text": [
      "(249, 768)\n",
      "(249, 2)\n"
     ]
    }
   ],
   "source": [
    "df = pd.read_csv('data1.csv')\n",
    "data, evaluations = df.iloc[:,:-1], df.iloc[:,-1:]\n",
    "# print(data.shape)\n",
    "# print(data.to_numpy())\n",
    "\n",
    "# x_train = x_train.reshape(60000, 784).astype(\"float32\") / 255\n",
    "# x_test = x_test.reshape(10000, 784).astype(\"float32\") / 255\n",
    "\n",
    "# y_train = y_train.astype(\"float32\")\n",
    "# y_test = y_test.astype(\"float32\")\n",
    "\n",
    "# Reserve 10,000 samples for validation\n",
    "x_val = data[:int(len(data)*0.1)].to_numpy()\n",
    "y_val = prepare_output(evaluations[:int(len(data)*0.1)].to_numpy().flatten())\n",
    "x_train = data[int(len(data)*0.1):int(len(data)*0.9)].to_numpy()\n",
    "y_train = prepare_output(evaluations[int(len(data)*0.1):int(len(data)*0.9)].to_numpy().flatten())\n",
    "x_test = data[int(len(data)*0.9):].to_numpy()\n",
    "y_test = prepare_output(evaluations[int(len(data)*0.9):].to_numpy().flatten())\n",
    "print(x_val.shape)\n",
    "print(y_val.shape)\n",
    "# print(x_train.shape)\n",
    "# print(x_test.shape)\n"
   ]
  },
  {
   "cell_type": "code",
   "execution_count": 80,
   "metadata": {},
   "outputs": [
    {
     "name": "stdout",
     "output_type": "stream",
     "text": [
      "Epoch 1/30\n",
      "16/16 [==============================] - 0s 13ms/step - loss: 0.6921 - accuracy: 0.7617 - val_loss: 0.6908 - val_accuracy: 0.9357\n",
      "Epoch 2/30\n",
      "16/16 [==============================] - 0s 5ms/step - loss: 0.6832 - accuracy: 0.8871 - val_loss: 0.6908 - val_accuracy: 0.9357\n",
      "Epoch 3/30\n",
      "16/16 [==============================] - 0s 6ms/step - loss: 0.6812 - accuracy: 0.9137 - val_loss: 0.6910 - val_accuracy: 0.9357\n",
      "Epoch 4/30\n",
      "16/16 [==============================] - 0s 5ms/step - loss: 0.6800 - accuracy: 0.9187 - val_loss: 0.6914 - val_accuracy: 0.9357\n",
      "Epoch 5/30\n",
      "16/16 [==============================] - 0s 5ms/step - loss: 0.6795 - accuracy: 0.9127 - val_loss: 0.6906 - val_accuracy: 0.9237\n",
      "Epoch 6/30\n",
      "16/16 [==============================] - 0s 5ms/step - loss: 0.6787 - accuracy: 0.9172 - val_loss: 0.6907 - val_accuracy: 0.9357\n",
      "Epoch 7/30\n",
      "16/16 [==============================] - 0s 5ms/step - loss: 0.6780 - accuracy: 0.9288 - val_loss: 0.6911 - val_accuracy: 0.9357\n",
      "Epoch 8/30\n",
      "16/16 [==============================] - 0s 6ms/step - loss: 0.6776 - accuracy: 0.9303 - val_loss: 0.6905 - val_accuracy: 0.9398\n",
      "Epoch 9/30\n",
      "16/16 [==============================] - 0s 5ms/step - loss: 0.6771 - accuracy: 0.9393 - val_loss: 0.6904 - val_accuracy: 0.9357\n",
      "Epoch 10/30\n",
      "16/16 [==============================] - 0s 4ms/step - loss: 0.6767 - accuracy: 0.9378 - val_loss: 0.6905 - val_accuracy: 0.9398\n",
      "Epoch 11/30\n",
      "16/16 [==============================] - 0s 4ms/step - loss: 0.6764 - accuracy: 0.9418 - val_loss: 0.6903 - val_accuracy: 0.9398\n",
      "Epoch 12/30\n",
      "16/16 [==============================] - 0s 6ms/step - loss: 0.6761 - accuracy: 0.9443 - val_loss: 0.6904 - val_accuracy: 0.9317\n",
      "Epoch 13/30\n",
      "16/16 [==============================] - 0s 5ms/step - loss: 0.6759 - accuracy: 0.9383 - val_loss: 0.6905 - val_accuracy: 0.9398\n",
      "Epoch 14/30\n",
      "16/16 [==============================] - 0s 5ms/step - loss: 0.6757 - accuracy: 0.9498 - val_loss: 0.6909 - val_accuracy: 0.9398\n",
      "Epoch 15/30\n",
      "16/16 [==============================] - 0s 5ms/step - loss: 0.6756 - accuracy: 0.9473 - val_loss: 0.6914 - val_accuracy: 0.9398\n",
      "Epoch 16/30\n",
      "16/16 [==============================] - 0s 5ms/step - loss: 0.6753 - accuracy: 0.9513 - val_loss: 0.6919 - val_accuracy: 0.9357\n",
      "Epoch 17/30\n",
      "16/16 [==============================] - 0s 8ms/step - loss: 0.6753 - accuracy: 0.9448 - val_loss: 0.6906 - val_accuracy: 0.9357\n",
      "Epoch 18/30\n",
      "16/16 [==============================] - 0s 5ms/step - loss: 0.6751 - accuracy: 0.9548 - val_loss: 0.6907 - val_accuracy: 0.9357\n",
      "Epoch 19/30\n",
      "16/16 [==============================] - 0s 5ms/step - loss: 0.6749 - accuracy: 0.9568 - val_loss: 0.6906 - val_accuracy: 0.9357\n",
      "Epoch 20/30\n",
      "16/16 [==============================] - 0s 5ms/step - loss: 0.6749 - accuracy: 0.9508 - val_loss: 0.6905 - val_accuracy: 0.9518\n",
      "Epoch 21/30\n",
      "16/16 [==============================] - 0s 5ms/step - loss: 0.6747 - accuracy: 0.9568 - val_loss: 0.6907 - val_accuracy: 0.9398\n",
      "Epoch 22/30\n",
      "16/16 [==============================] - 0s 4ms/step - loss: 0.6746 - accuracy: 0.9594 - val_loss: 0.6905 - val_accuracy: 0.9398\n",
      "Epoch 23/30\n",
      "16/16 [==============================] - 0s 4ms/step - loss: 0.6745 - accuracy: 0.9584 - val_loss: 0.6905 - val_accuracy: 0.9317\n",
      "Epoch 24/30\n",
      "16/16 [==============================] - 0s 4ms/step - loss: 0.6744 - accuracy: 0.9604 - val_loss: 0.6903 - val_accuracy: 0.9317\n",
      "Epoch 25/30\n",
      "16/16 [==============================] - 0s 4ms/step - loss: 0.6743 - accuracy: 0.9714 - val_loss: 0.6904 - val_accuracy: 0.9438\n",
      "Epoch 26/30\n",
      "16/16 [==============================] - 0s 4ms/step - loss: 0.6743 - accuracy: 0.9629 - val_loss: 0.6906 - val_accuracy: 0.9398\n",
      "Epoch 27/30\n",
      "16/16 [==============================] - 0s 7ms/step - loss: 0.6743 - accuracy: 0.9634 - val_loss: 0.6908 - val_accuracy: 0.9398\n",
      "Epoch 28/30\n",
      "16/16 [==============================] - 0s 6ms/step - loss: 0.6742 - accuracy: 0.9714 - val_loss: 0.6905 - val_accuracy: 0.9398\n",
      "Epoch 29/30\n",
      "16/16 [==============================] - 0s 4ms/step - loss: 0.6742 - accuracy: 0.9669 - val_loss: 0.6906 - val_accuracy: 0.9398\n",
      "Epoch 30/30\n",
      "16/16 [==============================] - 0s 4ms/step - loss: 0.6741 - accuracy: 0.9674 - val_loss: 0.6902 - val_accuracy: 0.9398\n"
     ]
    }
   ],
   "source": [
    "history = model.fit(\n",
    "    x_train,\n",
    "    y_train,\n",
    "    batch_size=128,\n",
    "    epochs=30,\n",
    "    # We pass some validation for\n",
    "    # monitoring validation loss and metrics\n",
    "    # at the end of each epoch\n",
    "    validation_data=(x_val, y_val),\n",
    ")"
   ]
  },
  {
   "cell_type": "code",
   "execution_count": 81,
   "metadata": {},
   "outputs": [
    {
     "name": "stdout",
     "output_type": "stream",
     "text": [
      "Evaluate on test data\n",
      "2/2 [==============================] - 0s 4ms/step - loss: 0.6856 - accuracy: 0.9520\n",
      "test loss, test acc: [0.6856420636177063, 0.9520000219345093]\n",
      "Generate predictions for 3 samples\n",
      "1/1 [==============================] - 0s 79ms/step\n",
      "predictions shape: (3, 2)\n"
     ]
    }
   ],
   "source": [
    "print(\"Evaluate on test data\")\n",
    "results = model.evaluate(x_test, y_test, batch_size=128)\n",
    "print(\"test loss, test acc:\", results)\n",
    "\n",
    "# Generate predictions (probabilities -- the output of the last layer)\n",
    "# on new data using `predict`\n",
    "print(\"Generate predictions for 3 samples\")\n",
    "predictions = model.predict(x_test[:3])\n",
    "print(\"predictions shape:\", predictions.shape)"
   ]
  },
  {
   "cell_type": "code",
   "execution_count": null,
   "metadata": {},
   "outputs": [],
   "source": []
  }
 ],
 "metadata": {
  "kernelspec": {
   "display_name": "Python 3.10.4 ('venv': venv)",
   "language": "python",
   "name": "python3"
  },
  "language_info": {
   "codemirror_mode": {
    "name": "ipython",
    "version": 3
   },
   "file_extension": ".py",
   "mimetype": "text/x-python",
   "name": "python",
   "nbconvert_exporter": "python",
   "pygments_lexer": "ipython3",
   "version": "3.10.4"
  },
  "orig_nbformat": 4,
  "vscode": {
   "interpreter": {
    "hash": "f78c285c14cead02ab6c4268e58eb3f5481640740caa4851527120daa122cef2"
   }
  }
 },
 "nbformat": 4,
 "nbformat_minor": 2
}
